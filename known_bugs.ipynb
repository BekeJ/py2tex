{
 "metadata": {
  "name": ""
 },
 "nbformat": 3,
 "nbformat_minor": 0,
 "worksheets": [
  {
   "cells": [
    {
     "cell_type": "code",
     "collapsed": false,
     "input": [
      "import testpy2tex"
     ],
     "language": "python",
     "metadata": {},
     "outputs": [],
     "prompt_number": 1
    },
    {
     "cell_type": "heading",
     "level": 2,
     "metadata": {},
     "source": [
      "No Parentheses bug:"
     ]
    },
    {
     "cell_type": "markdown",
     "metadata": {},
     "source": [
      "Will require a rewrite of the py2tex ast module"
     ]
    },
    {
     "cell_type": "code",
     "collapsed": false,
     "input": [
      "%tex (1.0-(2.5+3.0))/2.0"
     ],
     "language": "python",
     "metadata": {},
     "outputs": [
      {
       "latex": [
        "$$\\frac{1.0 - 2.5 + 3.0}{2.0} = -2.250$$"
       ],
       "metadata": {},
       "output_type": "display_data",
       "text": [
        "(1.0-(2.5+3.0))/2.0 = -2.250"
       ]
      }
     ],
     "prompt_number": 2
    },
    {
     "cell_type": "heading",
     "level": 2,
     "metadata": {},
     "source": [
      "FIXED : Underscore bug for functions"
     ]
    },
    {
     "cell_type": "code",
     "collapsed": false,
     "input": [
      "func_test = lambda x: x**2"
     ],
     "language": "python",
     "metadata": {},
     "outputs": [],
     "prompt_number": 3
    },
    {
     "cell_type": "code",
     "collapsed": false,
     "input": [
      "%tex func_test(2.0)"
     ],
     "language": "python",
     "metadata": {},
     "outputs": [
      {
       "latex": [
        "$$func_{test}\\left(2.0\\right) = 4.000$$"
       ],
       "metadata": {},
       "output_type": "display_data",
       "text": [
        "func_test(2.0) = 4.000"
       ]
      }
     ],
     "prompt_number": 4
    },
    {
     "cell_type": "code",
     "collapsed": false,
     "input": [],
     "language": "python",
     "metadata": {},
     "outputs": [],
     "prompt_number": 4
    }
   ],
   "metadata": {}
  }
 ]
}