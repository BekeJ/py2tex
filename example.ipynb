{
 "metadata": {
  "name": "",
  "signature": "sha256:4732ed6a8b2478f2d9d47bc39a2fe289bcfa452f8d73220ffdd3539d61d2ec0c"
 },
 "nbformat": 3,
 "nbformat_minor": 0,
 "worksheets": [
  {
   "cells": [
    {
     "cell_type": "markdown",
     "metadata": {},
     "source": [
      "The py2tex extension provides magic commands to convert python mathematical expressions to a nice LaTeX representation when using the IPython notebook. The following commands are defined <i>%tex</i>, <i>%texnr</i> and <i>%texformat</i>. <br>\n",
      "The extension was created to provide an minimalistic alternative for Mathcad, but with the power of IPython (notebook). For that purpose, the <a href=\"https://bitbucket.org/kiv/unum/src\">unum package</a> is supported to provide unit aware calculations."
     ]
    },
    {
     "cell_type": "heading",
     "level": 2,
     "metadata": {},
     "source": [
      "A first example"
     ]
    },
    {
     "cell_type": "code",
     "collapsed": false,
     "input": [
      "%load_ext py2tex"
     ],
     "language": "python",
     "metadata": {},
     "outputs": [],
     "prompt_number": 1
    },
    {
     "cell_type": "code",
     "collapsed": false,
     "input": [
      "from math import *"
     ],
     "language": "python",
     "metadata": {},
     "outputs": [],
     "prompt_number": 2
    },
    {
     "cell_type": "code",
     "collapsed": false,
     "input": [
      "%%tex a = 1.0\n",
      "b = -1.0\n",
      "c = -1.0\n",
      "x_1 = (-b-sqrt(b**2-4*a*c))/(2*a)\n",
      "x_2 = (-b+sqrt(b**2-4*a*c))/(2*a)\n",
      "x = x_1\n",
      "a*x**2+b*x+c"
     ],
     "language": "python",
     "metadata": {},
     "outputs": [
      {
       "latex": [
        "$$a = 1.0$$"
       ],
       "metadata": {},
       "output_type": "display_data",
       "text": [
        "a = 1.0"
       ]
      },
      {
       "latex": [
        "$$b = -1.0$$"
       ],
       "metadata": {},
       "output_type": "display_data",
       "text": [
        "b = -1.0"
       ]
      },
      {
       "latex": [
        "$$c = -1.0$$"
       ],
       "metadata": {},
       "output_type": "display_data",
       "text": [
        "c = -1.0"
       ]
      },
      {
       "latex": [
        "$$x_{1} = \\frac{- b - \\left(\\sqrt{b^{2} - 4 \\cdot a \\cdot c}\\right)}{2 \\cdot a} = -0.618$$"
       ],
       "metadata": {},
       "output_type": "display_data",
       "text": [
        "x_1 = (-b-sqrt(b**2-4*a*c))/(2*a) = -0.618"
       ]
      },
      {
       "latex": [
        "$$x_{2} = \\frac{- b + \\sqrt{b^{2} - 4 \\cdot a \\cdot c}}{2 \\cdot a} = 1.618$$"
       ],
       "metadata": {},
       "output_type": "display_data",
       "text": [
        "x_2 = (-b+sqrt(b**2-4*a*c))/(2*a) = 1.618"
       ]
      },
      {
       "latex": [
        "$$x = x_{1} = -0.618$$"
       ],
       "metadata": {},
       "output_type": "display_data",
       "text": [
        "x = x_1 = -0.618"
       ]
      },
      {
       "latex": [
        "$$a \\cdot x^{2} + b \\cdot x + c = 0.000$$"
       ],
       "metadata": {},
       "output_type": "display_data",
       "text": [
        "a*x**2+b*x+c = 0.000"
       ]
      }
     ],
     "prompt_number": 3
    },
    {
     "cell_type": "heading",
     "level": 2,
     "metadata": {},
     "source": [
      "More examples"
     ]
    },
    {
     "cell_type": "markdown",
     "metadata": {},
     "source": [
      "As seen above, underscores in variable names are converted to subscript. If more than one underscore is used, they will be converted to commas. Known greek letters will be converted their LaTeX equivalent"
     ]
    },
    {
     "cell_type": "code",
     "collapsed": false,
     "input": [
      "%%tex a_1 = 2.0\n",
      "a_1_1 = 3.0\n",
      "a_1_1_12 = 4.0\n",
      "zeta = 2*pi\n",
      "beta_alpha = zeta*2"
     ],
     "language": "python",
     "metadata": {},
     "outputs": [
      {
       "latex": [
        "$$a_{1} = 2.0$$"
       ],
       "metadata": {},
       "output_type": "display_data",
       "text": [
        "a_1 = 2.0"
       ]
      },
      {
       "latex": [
        "$$a_{1,1} = 3.0$$"
       ],
       "metadata": {},
       "output_type": "display_data",
       "text": [
        "a_1_1 = 3.0"
       ]
      },
      {
       "latex": [
        "$$a_{1,1,12} = 4.0$$"
       ],
       "metadata": {},
       "output_type": "display_data",
       "text": [
        "a_1_1_12 = 4.0"
       ]
      },
      {
       "latex": [
        "$$\\zeta = 2 \\cdot \\pi = 6.283$$"
       ],
       "metadata": {},
       "output_type": "display_data",
       "text": [
        "zeta = 2*pi = 6.283"
       ]
      },
      {
       "latex": [
        "$$\\beta_{\\alpha} = \\zeta \\cdot 2 = 12.566$$"
       ],
       "metadata": {},
       "output_type": "display_data",
       "text": [
        "beta_alpha = zeta*2 = 12.566"
       ]
      }
     ],
     "prompt_number": 4
    },
    {
     "cell_type": "markdown",
     "metadata": {},
     "source": [
      "All direct function calls are supported for a conversion. (Eg. sin( ... ) will be converted but math.sin( ... ) will not be converted. This behaviour might be changed in the future)"
     ]
    },
    {
     "cell_type": "code",
     "collapsed": false,
     "input": [
      "%tex z = max(sin(pi/7), cos(pi/3))"
     ],
     "language": "python",
     "metadata": {},
     "outputs": [
      {
       "latex": [
        "$$z = \\max\\left(\\sin\\left(\\frac{\\pi}{7}\\right), \\,\\cos\\left(\\frac{\\pi}{3}\\right)\\right) = 0.500$$"
       ],
       "metadata": {},
       "output_type": "display_data",
       "text": [
        "z = max(sin(pi/7), cos(pi/3)) = 0.500"
       ]
      }
     ],
     "prompt_number": 5
    },
    {
     "cell_type": "markdown",
     "metadata": {},
     "source": [
      "Custom functions are also supported"
     ]
    },
    {
     "cell_type": "code",
     "collapsed": false,
     "input": [
      "def f(x,y):\n",
      "    return x**2+x*y+y**2"
     ],
     "language": "python",
     "metadata": {},
     "outputs": [],
     "prompt_number": 6
    },
    {
     "cell_type": "code",
     "collapsed": false,
     "input": [
      "%tex f(2,3)"
     ],
     "language": "python",
     "metadata": {},
     "outputs": [
      {
       "latex": [
        "$$\\mathrm{f}\\left(2, \\,3\\right) = 19.000$$"
       ],
       "metadata": {},
       "output_type": "display_data",
       "text": [
        "f(2,3) = 19.000"
       ]
      }
     ],
     "prompt_number": 7
    },
    {
     "cell_type": "heading",
     "level": 2,
     "metadata": {},
     "source": [
      "Some additional display options"
     ]
    },
    {
     "cell_type": "heading",
     "level": 3,
     "metadata": {},
     "source": [
      "Changing the output format"
     ]
    },
    {
     "cell_type": "markdown",
     "metadata": {},
     "source": [
      "The output format can be changed with the <i>%texformat</i> command. The following example will show it's usage:"
     ]
    },
    {
     "cell_type": "code",
     "collapsed": false,
     "input": [
      "%texformat %.2f"
     ],
     "language": "python",
     "metadata": {},
     "outputs": [],
     "prompt_number": 8
    },
    {
     "cell_type": "code",
     "collapsed": false,
     "input": [
      "%tex sin(pi/4)"
     ],
     "language": "python",
     "metadata": {},
     "outputs": [
      {
       "latex": [
        "$$\\sin\\left(\\frac{\\pi}{4}\\right) = 0.71$$"
       ],
       "metadata": {},
       "output_type": "display_data",
       "text": [
        "sin(pi/4) = 0.71"
       ]
      }
     ],
     "prompt_number": 9
    },
    {
     "cell_type": "code",
     "collapsed": false,
     "input": [
      "%texformat %.10f"
     ],
     "language": "python",
     "metadata": {},
     "outputs": [],
     "prompt_number": 10
    },
    {
     "cell_type": "code",
     "collapsed": false,
     "input": [
      "%tex sin(pi/4)"
     ],
     "language": "python",
     "metadata": {},
     "outputs": [
      {
       "latex": [
        "$$\\sin\\left(\\frac{\\pi}{4}\\right) = 0.7071067812$$"
       ],
       "metadata": {},
       "output_type": "display_data",
       "text": [
        "sin(pi/4) = 0.7071067812"
       ]
      }
     ],
     "prompt_number": 11
    },
    {
     "cell_type": "code",
     "collapsed": false,
     "input": [
      "%texformat %.3e"
     ],
     "language": "python",
     "metadata": {},
     "outputs": [],
     "prompt_number": 12
    },
    {
     "cell_type": "code",
     "collapsed": false,
     "input": [
      "%tex pi**50"
     ],
     "language": "python",
     "metadata": {},
     "outputs": [
      {
       "latex": [
        "$$\\pi^{50} = 7.203 \\cdot 10^{24} $$"
       ],
       "metadata": {},
       "output_type": "display_data",
       "text": [
        "pi**50 = 7.203 \\cdot 10^{24} "
       ]
      }
     ],
     "prompt_number": 13
    },
    {
     "cell_type": "code",
     "collapsed": false,
     "input": [
      "%texformat %.3f"
     ],
     "language": "python",
     "metadata": {},
     "outputs": [],
     "prompt_number": 14
    },
    {
     "cell_type": "markdown",
     "metadata": {},
     "source": [
      "The output format can also be chosen for each line by using an #format tag. The following example will show the usage:"
     ]
    },
    {
     "cell_type": "code",
     "collapsed": false,
     "input": [
      "%%tex sin(pi/4) #format %.3e\n",
      "sin(pi/4) #format %.5f"
     ],
     "language": "python",
     "metadata": {},
     "outputs": [
      {
       "latex": [
        "$$\\sin\\left(\\frac{\\pi}{4}\\right) = 7.071 \\cdot 10^{-1} $$"
       ],
       "metadata": {},
       "output_type": "display_data",
       "text": [
        "sin(pi/4) #format %.3e = 7.071 \\cdot 10^{-1} "
       ]
      },
      {
       "latex": [
        "$$\\sin\\left(\\frac{\\pi}{4}\\right) = 0.70711$$"
       ],
       "metadata": {},
       "output_type": "display_data",
       "text": [
        "sin(pi/4) #format %.5f = 0.70711"
       ]
      }
     ],
     "prompt_number": 15
    },
    {
     "cell_type": "heading",
     "level": 3,
     "metadata": {},
     "source": [
      "Hiding the results"
     ]
    },
    {
     "cell_type": "markdown",
     "metadata": {},
     "source": [
      "The result of a given expression can be hiden with the <i>#noresult</i> tag."
     ]
    },
    {
     "cell_type": "code",
     "collapsed": false,
     "input": [
      "%%tex x=0.35\n",
      "y = sqrt(1-x**3) #noresult\n",
      "y"
     ],
     "language": "python",
     "metadata": {},
     "outputs": [
      {
       "latex": [
        "$$x = 0.35$$"
       ],
       "metadata": {},
       "output_type": "display_data",
       "text": [
        "x=0.35"
       ]
      },
      {
       "latex": [
        "$$y = \\sqrt{1 - x^{3}}$$"
       ],
       "metadata": {},
       "output_type": "display_data",
       "text": [
        "y = sqrt(1-x**3) #noresult"
       ]
      },
      {
       "latex": [
        "$$y = 0.978$$"
       ],
       "metadata": {},
       "output_type": "display_data",
       "text": [
        "y = 0.978"
       ]
      }
     ],
     "prompt_number": 16
    },
    {
     "cell_type": "heading",
     "level": 3,
     "metadata": {},
     "source": [
      "Hiding an entire code line"
     ]
    },
    {
     "cell_type": "markdown",
     "metadata": {},
     "source": [
      "An entire expression can be hiden with the <i>#nodisplay</i> tag. This can be usefull for lines which can not be converted. (Eg. lambda expressions or methods on classes like foo.bar( some expression) )"
     ]
    },
    {
     "cell_type": "code",
     "collapsed": false,
     "input": [
      "%%tex sinh = lambda x: (e**x-e**(-x))/2.0 #nodisplay\n",
      "y = sinh(3)"
     ],
     "language": "python",
     "metadata": {},
     "outputs": [
      {
       "latex": [
        "$$y = \\sinh\\left(3\\right) = 10.018$$"
       ],
       "metadata": {},
       "output_type": "display_data",
       "text": [
        "y = sinh(3) = 10.018"
       ]
      }
     ],
     "prompt_number": 17
    },
    {
     "cell_type": "heading",
     "level": 2,
     "metadata": {},
     "source": [
      "Working with units"
     ]
    },
    {
     "cell_type": "markdown",
     "metadata": {},
     "source": [
      "The unum units must be loaded. For a detailed explenation see the unum documentation."
     ]
    },
    {
     "cell_type": "code",
     "collapsed": false,
     "input": [
      "from unum.units import m,s,km,J,kg,cm"
     ],
     "language": "python",
     "metadata": {},
     "outputs": [],
     "prompt_number": 18
    },
    {
     "cell_type": "code",
     "collapsed": false,
     "input": [
      "%%tex a=1*m/s**2\n",
      "v_0 = 1.0*m/s\n",
      "t = 3*s\n",
      "v_t = v_0+a*t\n",
      "x_t = v_0*t+a*t**2/2\n",
      "m_ = 100*kg #m is already defined as a unit so m_ can be a work around\n",
      "E=m_*v_t**2/2"
     ],
     "language": "python",
     "metadata": {},
     "outputs": [
      {
       "latex": [
        "$$a = 1.000\\;\\:\\mbox{m}/\\mbox{s}^{2}$$"
       ],
       "metadata": {},
       "output_type": "display_data",
       "text": [
        "a=1*m/s**2 = 1.000\\;\\:\\mbox{m}/\\mbox{s}^{2}"
       ]
      },
      {
       "latex": [
        "$$v_{0} = 1.000\\;\\:\\mbox{m}/\\mbox{s}$$"
       ],
       "metadata": {},
       "output_type": "display_data",
       "text": [
        "v_0 = 1.0*m/s = 1.000\\;\\:\\mbox{m}/\\mbox{s}"
       ]
      },
      {
       "latex": [
        "$$t = 3.000\\;\\:\\mbox{s}$$"
       ],
       "metadata": {},
       "output_type": "display_data",
       "text": [
        "t = 3*s = 3.000\\;\\:\\mbox{s}"
       ]
      },
      {
       "latex": [
        "$$v_{t} = v_{0} + \\mbox{a} \\cdot t = 4.000\\;\\:\\mbox{m}/\\mbox{s}$$"
       ],
       "metadata": {},
       "output_type": "display_data",
       "text": [
        "v_t = v_0+a*t = 4.000\\;\\:\\mbox{m}/\\mbox{s}"
       ]
      },
      {
       "latex": [
        "$$x_{t} = v_{0} \\cdot t + \\frac{\\mbox{a} \\cdot t^{2}}{2} = 7.000\\;\\:\\mbox{m}$$"
       ],
       "metadata": {},
       "output_type": "display_data",
       "text": [
        "x_t = v_0*t+a*t**2/2 = 7.000\\;\\:\\mbox{m}"
       ]
      },
      {
       "latex": [
        "$$m_{} = 100.000\\;\\:\\mbox{kg}$$"
       ],
       "metadata": {},
       "output_type": "display_data",
       "text": [
        "m_ = 100*kg #m is already defined as a unit so m_ can be a work around = 100.000\\;\\:\\mbox{kg}"
       ]
      },
      {
       "latex": [
        "$$E = \\frac{m_{} \\cdot v_{t}^{2}}{2} = 800.000\\;\\:\\mbox{kg}\\cdot\\mbox{m}^{2}/\\mbox{s}^{2}$$"
       ],
       "metadata": {},
       "output_type": "display_data",
       "text": [
        "E=m_*v_t**2/2 = 800.000\\;\\:\\mbox{kg}\\cdot\\mbox{m}^{2}/\\mbox{s}^{2}"
       ]
      }
     ],
     "prompt_number": 19
    },
    {
     "cell_type": "markdown",
     "metadata": {},
     "source": [
      "The last expression is maybe not converted to the wanted unit. A solution would be:"
     ]
    },
    {
     "cell_type": "code",
     "collapsed": false,
     "input": [
      "%tex E=m_*v_t**2/2\n",
      "E = E.asUnit(J)\n",
      "%tex E"
     ],
     "language": "python",
     "metadata": {},
     "outputs": [
      {
       "latex": [
        "$$E = \\frac{m_{} \\cdot v_{t}^{2}}{2} = 800.000\\;\\:\\mbox{kg}\\cdot\\mbox{m}^{2}/\\mbox{s}^{2}$$"
       ],
       "metadata": {},
       "output_type": "display_data",
       "text": [
        "E=m_*v_t**2/2 = 800.000\\;\\:\\mbox{kg}\\cdot\\mbox{m}^{2}/\\mbox{s}^{2}"
       ]
      },
      {
       "latex": [
        "$$E = 800.000\\;\\:\\mbox{J}$$"
       ],
       "metadata": {},
       "output_type": "display_data",
       "text": [
        "E = 800.000\\;\\:\\mbox{J}"
       ]
      }
     ],
     "prompt_number": 20
    },
    {
     "cell_type": "markdown",
     "metadata": {},
     "source": [
      "This requires however lots of typing and mixing of the <i>%tex</i> and <i>%texnr</i> commands. An easy method is by using a #asUnit comment. For example:"
     ]
    },
    {
     "cell_type": "code",
     "collapsed": false,
     "input": [
      "%%tex E=m_*v_t**2/2 #asUnit J\n",
      "v_t #asUnit cm/s"
     ],
     "language": "python",
     "metadata": {},
     "outputs": [
      {
       "latex": [
        "$$E = \\frac{m_{} \\cdot v_{t}^{2}}{2} = 800.000\\;\\:\\mbox{J}$$"
       ],
       "metadata": {},
       "output_type": "display_data",
       "text": [
        "E=m_*v_t**2/2 #asUnit J = 800.000\\;\\:\\mbox{J}"
       ]
      },
      {
       "latex": [
        "$$v_{t} = 400.000\\;\\:\\mbox{cm}/\\mbox{s}$$"
       ],
       "metadata": {},
       "output_type": "display_data",
       "text": [
        "v_t #asUnit cm/s = 400.000\\;\\:\\mbox{cm}/\\mbox{s}"
       ]
      }
     ],
     "prompt_number": 21
    },
    {
     "cell_type": "markdown",
     "metadata": {},
     "source": [
      "This command uses the Unum.asUnit() method and will raise an unum.IncompatibleUnitsError if conversion is not possible."
     ]
    }
   ],
   "metadata": {}
  }
 ]
}