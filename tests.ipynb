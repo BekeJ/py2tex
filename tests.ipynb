{
 "metadata": {
  "name": ""
 },
 "nbformat": 3,
 "nbformat_minor": 0,
 "worksheets": [
  {
   "cells": [
    {
     "cell_type": "code",
     "collapsed": false,
     "input": [
      "import testpy2tex"
     ],
     "language": "python",
     "metadata": {},
     "outputs": [],
     "prompt_number": 1
    },
    {
     "cell_type": "code",
     "collapsed": false,
     "input": [
      "from unum.units import m,mm,cm\n",
      "import math as m_m\n",
      "import math"
     ],
     "language": "python",
     "metadata": {},
     "outputs": [],
     "prompt_number": 2
    },
    {
     "cell_type": "code",
     "collapsed": false,
     "input": [
      "%tex a_i = 1.0*mm #asUnit cm"
     ],
     "language": "python",
     "metadata": {},
     "outputs": [
      {
       "latex": [
        "$$a_{i} = 0.100\\;\\:\\mbox{cm}$$"
       ],
       "metadata": {},
       "output_type": "display_data",
       "text": [
        "a_i = 1.0*mm #asUnit cm = 0.100\\;\\:\\mbox{cm}"
       ]
      }
     ],
     "prompt_number": 3
    },
    {
     "cell_type": "code",
     "collapsed": false,
     "input": [
      "%%tex m_m.sin(2.5)\n",
      "math.cos(2)\n",
      "max(3,4)\n",
      "math.pi"
     ],
     "language": "python",
     "metadata": {},
     "outputs": [
      {
       "latex": [
        "$$\\mathrm{m_{m}.sin}\\left(2.5\\right) = 0.598$$"
       ],
       "metadata": {},
       "output_type": "display_data",
       "text": [
        "m_m.sin(2.5) = 0.598"
       ]
      },
      {
       "latex": [
        "$$\\mathrm{math.cos}\\left(2\\right) = -0.416$$"
       ],
       "metadata": {},
       "output_type": "display_data",
       "text": [
        "math.cos(2) = -0.416"
       ]
      },
      {
       "latex": [
        "$$\\max\\left(3, 4\\right) = 4.000$$"
       ],
       "metadata": {},
       "output_type": "display_data",
       "text": [
        "max(3,4) = 4.000"
       ]
      },
      {
       "latex": [
        "$$\\mathrm{math.pi} = 3.142$$"
       ],
       "metadata": {},
       "output_type": "display_data",
       "text": [
        "math.pi = 3.142"
       ]
      }
     ],
     "prompt_number": 4
    },
    {
     "cell_type": "code",
     "collapsed": false,
     "input": [],
     "language": "python",
     "metadata": {},
     "outputs": [],
     "prompt_number": 4
    }
   ],
   "metadata": {}
  }
 ]
}